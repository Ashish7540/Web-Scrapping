{
 "cells": [
  {
   "cell_type": "code",
   "execution_count": 1,
   "id": "db0a2b97-0b26-4113-91dd-e88e9ce739c9",
   "metadata": {},
   "outputs": [],
   "source": [
    "import requests\n",
    "from bs4 import BeautifulSoup as bs\n",
    "from urllib.request import urlopen\n",
    "import logging"
   ]
  },
  {
   "cell_type": "code",
   "execution_count": 2,
   "id": "82d874ff-d18f-4102-b9b2-9b5a8a18a2b8",
   "metadata": {},
   "outputs": [],
   "source": [
    "#Web Scrapping in flipkart\n",
    "flipkart_url = \"https://www.flipkart.com/search?q=\" + \"oneplusnord2T\""
   ]
  },
  {
   "cell_type": "code",
   "execution_count": 3,
   "id": "e877166e-b527-4987-9582-7a8207614533",
   "metadata": {},
   "outputs": [
    {
     "data": {
      "text/plain": [
       "'https://www.flipkart.com/search?q=oneplusnord2T'"
      ]
     },
     "execution_count": 3,
     "metadata": {},
     "output_type": "execute_result"
    }
   ],
   "source": [
    "flipkart_url"
   ]
  },
  {
   "cell_type": "code",
   "execution_count": 4,
   "id": "eb8a819c-2374-481d-ad6f-21d5e1b23312",
   "metadata": {},
   "outputs": [],
   "source": [
    "#To direct open url\n",
    "urlclient = urlopen(flipkart_url)"
   ]
  },
  {
   "cell_type": "code",
   "execution_count": 5,
   "id": "2754ddca-813c-47a6-b997-15d8479a1b48",
   "metadata": {},
   "outputs": [],
   "source": [
    "# To see complete HTML code\n",
    "flipkart_page = urlclient.read()"
   ]
  },
  {
   "cell_type": "code",
   "execution_count": 6,
   "id": "2d46d35e-8947-4b3f-a22d-5061e9d0d382",
   "metadata": {},
   "outputs": [],
   "source": [
    "# The HTML code obtained is in unorganised form, to beautify litle bit\n",
    "flipkart_html = bs(flipkart_page, 'html.parser')"
   ]
  },
  {
   "cell_type": "code",
   "execution_count": 7,
   "id": "61e7636f-4bc5-47bb-8ce6-6fea3d0edd46",
   "metadata": {},
   "outputs": [
    {
     "data": {
      "text/plain": [
       "'https://www.flipkart.com/oneplus-nord-2t-5g-jade-fog-128-gb/p/itm31ac32e308282?pid=MOBGHBZHFAUYKH3U&lid=LSTMOBGHBZHFAUYKH3UBOO0MO&marketplace=FLIPKART&q=oneplusnord2T&store=tyy%2F4io&srno=s_1_1&otracker=search&fm=organic&iid=183db0b6-d037-4761-b92f-f6a1f359c7de.MOBGHBZHFAUYKH3U.SEARCH&ppt=sp&ppn=sp&ssid=0svbmb5ksw0000001678003301629&qH=cfc714d8cb15971e'"
      ]
     },
     "execution_count": 7,
     "metadata": {},
     "output_type": "execute_result"
    }
   ],
   "source": [
    "\"https://www.flipkart.com\" + \"/oneplus-nord-2t-5g-jade-fog-128-gb/p/itm31ac32e308282?pid=MOBGHBZHFAUYKH3U&lid=LSTMOBGHBZHFAUYKH3UBOO0MO&marketplace=FLIPKART&q=oneplusnord2T&store=tyy%2F4io&srno=s_1_1&otracker=search&fm=organic&iid=183db0b6-d037-4761-b92f-f6a1f359c7de.MOBGHBZHFAUYKH3U.SEARCH&ppt=sp&ppn=sp&ssid=0svbmb5ksw0000001678003301629&qH=cfc714d8cb15971e\""
   ]
  },
  {
   "cell_type": "code",
   "execution_count": 8,
   "id": "242ec522-9b53-4390-a471-346dbd7cc6ee",
   "metadata": {},
   "outputs": [],
   "source": [
    "#We need to fetch all the url from html page and add flipkart.com before it to access each and every product details\n",
    "big_box = flipkart_html.find_all(\"div\", {\"class\":\"_1AtVbE col-12-12\"})"
   ]
  },
  {
   "cell_type": "code",
   "execution_count": 9,
   "id": "0f940347-076f-45ec-b362-8b59eab575ec",
   "metadata": {},
   "outputs": [
    {
     "data": {
      "text/plain": [
       "30"
      ]
     },
     "execution_count": 9,
     "metadata": {},
     "output_type": "execute_result"
    }
   ],
   "source": [
    "#For 30 products we are able to get big box\n",
    "len(big_box)"
   ]
  },
  {
   "cell_type": "code",
   "execution_count": 10,
   "id": "c3e5802b-4ef6-4dcd-b1a1-db11ab7fe1c6",
   "metadata": {},
   "outputs": [],
   "source": [
    "#Delete first 3 big box as it contains header info\n",
    "del big_box[0:3]"
   ]
  },
  {
   "cell_type": "code",
   "execution_count": 11,
   "id": "b1ac5cc0-079d-4544-9f20-b1e61a5ef078",
   "metadata": {},
   "outputs": [],
   "source": [
    "#To extract link for first product\n",
    "url = big_box[0].div.div.div.a['href']"
   ]
  },
  {
   "cell_type": "code",
   "execution_count": 12,
   "id": "3fa29cbf-59fa-44ed-9a34-f5e3e8a85307",
   "metadata": {},
   "outputs": [],
   "source": [
    "#To open this url\n",
    "product_link = \"https://www.flipkart.com\" + url"
   ]
  },
  {
   "cell_type": "code",
   "execution_count": 13,
   "id": "c7869993-dd0c-4e60-8762-31500d6e87f3",
   "metadata": {},
   "outputs": [
    {
     "name": "stdout",
     "output_type": "stream",
     "text": [
      "https://www.flipkart.com/oneplus-nord-2t-5g-gray-shadow-128-gb/p/itmeadf76c1e8943?pid=MOBGHBZH2S8MWQGQ&lid=LSTMOBGHBZH2S8MWQGQ4WO33L&marketplace=FLIPKART&q=oneplusnord2T&store=tyy%2F4io&srno=s_1_2&otracker=search&fm=organic&iid=b68c9c6b-de72-4be3-ad39-559b9e349862.MOBGHBZH2S8MWQGQ.SEARCH&ppt=None&ppn=None&ssid=c7u8jm8bhc0000001678090719985&qH=cfc714d8cb15971e\n",
      "https://www.flipkart.com/oneplus-nord-2t-5g-jade-fog-256-gb/p/itm97eda8b1a1566?pid=MOBGHBZHF4YCMGZY&lid=LSTMOBGHBZHF4YCMGZYFNFMJN&marketplace=FLIPKART&q=oneplusnord2T&store=tyy%2F4io&srno=s_1_3&otracker=search&fm=organic&iid=b68c9c6b-de72-4be3-ad39-559b9e349862.MOBGHBZHF4YCMGZY.SEARCH&ppt=None&ppn=None&ssid=c7u8jm8bhc0000001678090719985&qH=cfc714d8cb15971e\n",
      "https://www.flipkart.com/oneplus-nord-2t-5g-gray-shadow-256-gb/p/itm97eda8b1a1566?pid=MOBGHBZHNPGQGXJY&lid=LSTMOBGHBZHNPGQGXJYJMMJOA&marketplace=FLIPKART&q=oneplusnord2T&store=tyy%2F4io&srno=s_1_4&otracker=search&fm=organic&iid=b68c9c6b-de72-4be3-ad39-559b9e349862.MOBGHBZHNPGQGXJY.SEARCH&ppt=None&ppn=None&ssid=c7u8jm8bhc0000001678090719985&qH=cfc714d8cb15971e\n",
      "https://www.flipkart.com/oneplus-nord-ce-2-lite-5g-black-dusk-128-gb/p/itm537fc2aa73747?pid=MOBGHBZHB7YJT5HF&lid=LSTMOBGHBZHB7YJT5HFXLGAJE&marketplace=FLIPKART&q=oneplusnord2T&store=tyy%2F4io&srno=s_1_5&otracker=search&fm=organic&iid=b68c9c6b-de72-4be3-ad39-559b9e349862.MOBGHBZHB7YJT5HF.SEARCH&ppt=None&ppn=None&ssid=c7u8jm8bhc0000001678090719985&qH=cfc714d8cb15971e\n",
      "https://www.flipkart.com/oneplus-nord-ce-2-lite-5g-blue-tide-128-gb/p/itm7acae55b999e6?pid=MOBGMFREBAHZQGY9&lid=LSTMOBGMFREBAHZQGY9GZTCUD&marketplace=FLIPKART&q=oneplusnord2T&store=tyy%2F4io&srno=s_1_6&otracker=search&fm=organic&iid=b68c9c6b-de72-4be3-ad39-559b9e349862.MOBGMFREBAHZQGY9.SEARCH&ppt=None&ppn=None&ssid=c7u8jm8bhc0000001678090719985&qH=cfc714d8cb15971e\n",
      "https://www.flipkart.com/oneplus-nord-ce-2-lite-5g-blue-tide-128-gb/p/itm7acae55b999e6?pid=MOBGHBNGY5NDH3GV&lid=LSTMOBGHBNGY5NDH3GVAIZDNM&marketplace=FLIPKART&q=oneplusnord2T&store=tyy%2F4io&srno=s_1_7&otracker=search&fm=organic&iid=b68c9c6b-de72-4be3-ad39-559b9e349862.MOBGHBNGY5NDH3GV.SEARCH&ppt=None&ppn=None&ssid=c7u8jm8bhc0000001678090719985&qH=cfc714d8cb15971e\n",
      "https://www.flipkart.com/oneplus-nord-ce-5g-silver-ray-256-gb/p/itmc4c02029d9c90?pid=MOBGDM5SUVH9VMZD&lid=LSTMOBGDM5SUVH9VMZDXXIG5M&marketplace=FLIPKART&q=oneplusnord2T&store=tyy%2F4io&spotlightTagId=TrendingId_tyy%2F4io&srno=s_1_8&otracker=search&fm=organic&iid=b68c9c6b-de72-4be3-ad39-559b9e349862.MOBGDM5SUVH9VMZD.SEARCH&ppt=None&ppn=None&ssid=c7u8jm8bhc0000001678090719985&qH=cfc714d8cb15971e\n",
      "https://www.flipkart.com/oneplus-nord-ce-5g-charcoal-ink-128-gb/p/itmc4c02029d9c90?pid=MOBGDM4D6RNZR2SA&lid=LSTMOBGDM4D6RNZR2SA9QQN6E&marketplace=FLIPKART&q=oneplusnord2T&store=tyy%2F4io&srno=s_1_9&otracker=search&fm=organic&iid=b68c9c6b-de72-4be3-ad39-559b9e349862.MOBGDM4D6RNZR2SA.SEARCH&ppt=None&ppn=None&ssid=c7u8jm8bhc0000001678090719985&qH=cfc714d8cb15971e\n",
      "https://www.flipkart.com/oneplus-nord-2-5g-gray-sierra-128-gb/p/itmd16c63dadf5c5?pid=MOBGDBFFA5EGECHQ&lid=LSTMOBGDBFFA5EGECHQQKVBBR&marketplace=FLIPKART&q=oneplusnord2T&store=tyy%2F4io&srno=s_1_10&otracker=search&fm=organic&iid=b68c9c6b-de72-4be3-ad39-559b9e349862.MOBGDBFFA5EGECHQ.SEARCH&ppt=None&ppn=None&ssid=c7u8jm8bhc0000001678090719985&qH=cfc714d8cb15971e\n",
      "https://www.flipkart.com/oneplus-nord-ce-5g-charcoal-ink-256-gb/p/itmc4c02029d9c90?pid=MOBGDM4JGS4AUQRN&lid=LSTMOBGDM4JGS4AUQRNGASBBY&marketplace=FLIPKART&q=oneplusnord2T&store=tyy%2F4io&srno=s_1_11&otracker=search&fm=organic&iid=b68c9c6b-de72-4be3-ad39-559b9e349862.MOBGDM4JGS4AUQRN.SEARCH&ppt=None&ppn=None&ssid=c7u8jm8bhc0000001678090719985&qH=cfc714d8cb15971e\n",
      "https://www.flipkart.com/oneplus-nord-ce-2-lite-5g-black-dusk-128-gb/p/itmc56272cceee9d?pid=MOBGHBZHQMNV4KKS&lid=LSTMOBGHBZHQMNV4KKSXVXFXQ&marketplace=FLIPKART&q=oneplusnord2T&store=tyy%2F4io&srno=s_1_12&otracker=search&fm=organic&iid=b68c9c6b-de72-4be3-ad39-559b9e349862.MOBGHBZHQMNV4KKS.SEARCH&ppt=None&ppn=None&ssid=c7u8jm8bhc0000001678090719985&qH=cfc714d8cb15971e\n",
      "https://www.flipkart.com/oneplus-nord-2-5g-blue-haze-128-gb/p/itmd16c63dadf5c5?pid=MOBGDBFJXFJPVWKA&lid=LSTMOBGDBFJXFJPVWKA9WW7RD&marketplace=FLIPKART&q=oneplusnord2T&store=tyy%2F4io&srno=s_1_13&otracker=search&fm=organic&iid=b68c9c6b-de72-4be3-ad39-559b9e349862.MOBGDBFJXFJPVWKA.SEARCH&ppt=None&ppn=None&ssid=c7u8jm8bhc0000001678090719985&qH=cfc714d8cb15971e\n",
      "https://www.flipkart.com/oneplus-nord-2-5g-blue-haze-256-gb/p/itmd16c63dadf5c5?pid=MOBGDBFHW7596ZTU&lid=LSTMOBGDBFHW7596ZTUTRT8EP&marketplace=FLIPKART&q=oneplusnord2T&store=tyy%2F4io&srno=s_1_14&otracker=search&fm=organic&iid=b68c9c6b-de72-4be3-ad39-559b9e349862.MOBGDBFHW7596ZTU.SEARCH&ppt=None&ppn=None&ssid=c7u8jm8bhc0000001678090719985&qH=cfc714d8cb15971e\n",
      "https://www.flipkart.com/oneplus-nord-ce-2-5g-gray-mirror-128-gb/p/itm33d69f9705a3d?pid=MOBGHHZGCZHJR938&lid=LSTMOBGHHZGCZHJR938SOVHYZ&marketplace=FLIPKART&q=oneplusnord2T&store=tyy%2F4io&spotlightTagId=TrendingId_tyy%2F4io&srno=s_1_15&otracker=search&fm=organic&iid=b68c9c6b-de72-4be3-ad39-559b9e349862.MOBGHHZGCZHJR938.SEARCH&ppt=None&ppn=None&ssid=c7u8jm8bhc0000001678090719985&qH=cfc714d8cb15971e\n",
      "https://www.flipkart.com/oneplus-nord-ce-2-5g-gray-mirror-128-gb/p/itm4644f5bbeb9bb?pid=MOBGKN6FDR7TNMHS&lid=LSTMOBGKN6FDR7TNMHSL5NRW1&marketplace=FLIPKART&q=oneplusnord2T&store=tyy%2F4io&srno=s_1_16&otracker=search&fm=organic&iid=b68c9c6b-de72-4be3-ad39-559b9e349862.MOBGKN6FDR7TNMHS.SEARCH&ppt=None&ppn=None&ssid=c7u8jm8bhc0000001678090719985&qH=cfc714d8cb15971e\n",
      "https://www.flipkart.com/oneplus-nord-ce-5g-charcoal-ink-128-gb/p/itmc4c02029d9c90?pid=MOBGDM46BMYENNJN&lid=LSTMOBGDM46BMYENNJNXCWS2A&marketplace=FLIPKART&q=oneplusnord2T&store=tyy%2F4io&srno=s_1_17&otracker=search&fm=organic&iid=b68c9c6b-de72-4be3-ad39-559b9e349862.MOBGDM46BMYENNJN.SEARCH&ppt=None&ppn=None&ssid=c7u8jm8bhc0000001678090719985&qH=cfc714d8cb15971e\n",
      "https://www.flipkart.com/oneplus-nord-ce-5g-blue-void-128-gb/p/itmc4c02029d9c90?pid=MOBGDM4QYUZKNAR4&lid=LSTMOBGDM4QYUZKNAR4TI51KT&marketplace=FLIPKART&q=oneplusnord2T&store=tyy%2F4io&srno=s_1_18&otracker=search&fm=organic&iid=b68c9c6b-de72-4be3-ad39-559b9e349862.MOBGDM4QYUZKNAR4.SEARCH&ppt=None&ppn=None&ssid=c7u8jm8bhc0000001678090719985&qH=cfc714d8cb15971e\n",
      "https://www.flipkart.com/oneplus-nord-ce-5g-silver-gray-128-gb/p/itmc4c02029d9c90?pid=MOBGDM5FDYUKKJQG&lid=LSTMOBGDM5FDYUKKJQGJNGKMI&marketplace=FLIPKART&q=oneplusnord2T&store=tyy%2F4io&srno=s_1_19&otracker=search&fm=organic&iid=b68c9c6b-de72-4be3-ad39-559b9e349862.MOBGDM5FDYUKKJQG.SEARCH&ppt=None&ppn=None&ssid=c7u8jm8bhc0000001678090719985&qH=cfc714d8cb15971e\n",
      "https://www.flipkart.com/oneplus-nord-ce-5g-silver-ray-128-gb/p/itmc4c02029d9c90?pid=MOBGDM57QA9WVYBK&lid=LSTMOBGDM57QA9WVYBK9RKH07&marketplace=FLIPKART&q=oneplusnord2T&store=tyy%2F4io&srno=s_1_20&otracker=search&fm=organic&iid=b68c9c6b-de72-4be3-ad39-559b9e349862.MOBGDM57QA9WVYBK.SEARCH&ppt=None&ppn=None&ssid=c7u8jm8bhc0000001678090719985&qH=cfc714d8cb15971e\n",
      "https://www.flipkart.com/oneplus-nord-ce-2-5g-bahama-blue-128-gb/p/itm2a9883679c57c?pid=MOBGJMUH64MTF6PK&lid=LSTMOBGJMUH64MTF6PKUUE9II&marketplace=FLIPKART&q=oneplusnord2T&store=tyy%2F4io&srno=s_1_21&otracker=search&fm=organic&iid=b68c9c6b-de72-4be3-ad39-559b9e349862.MOBGJMUH64MTF6PK.SEARCH&ppt=None&ppn=None&ssid=c7u8jm8bhc0000001678090719985&qH=cfc714d8cb15971e\n",
      "https://www.flipkart.com/oneplus-nord-2-5g-green-wood-256-gb/p/itmd16c63dadf5c5?pid=MOBGE7D9U2RVQPH7&lid=LSTMOBGE7D9U2RVQPH7MYCR2P&marketplace=FLIPKART&q=oneplusnord2T&store=tyy%2F4io&srno=s_1_22&otracker=search&fm=organic&iid=b68c9c6b-de72-4be3-ad39-559b9e349862.MOBGE7D9U2RVQPH7.SEARCH&ppt=None&ppn=None&ssid=c7u8jm8bhc0000001678090719985&qH=cfc714d8cb15971e\n",
      "https://www.flipkart.com/oneplus-nord-2-5g-pac-man-256-gb/p/itmd16c63dadf5c5?pid=MOBGEYH6EJGAWMFT&lid=LSTMOBGEYH6EJGAWMFTJRQLTC&marketplace=FLIPKART&q=oneplusnord2T&store=tyy%2F4io&srno=s_1_23&otracker=search&fm=organic&iid=b68c9c6b-de72-4be3-ad39-559b9e349862.MOBGEYH6EJGAWMFT.SEARCH&ppt=None&ppn=None&ssid=c7u8jm8bhc0000001678090719985&qH=cfc714d8cb15971e\n",
      "https://www.flipkart.com/oneplus-nord-2-5g-gray-sierra-256-gb/p/itmd16c63dadf5c5?pid=MOBGDBFRAPSY7GFZ&lid=LSTMOBGDBFRAPSY7GFZAR4VAJ&marketplace=FLIPKART&q=oneplusnord2T&store=tyy%2F4io&srno=s_1_24&otracker=search&fm=organic&iid=b68c9c6b-de72-4be3-ad39-559b9e349862.MOBGDBFRAPSY7GFZ.SEARCH&ppt=None&ppn=None&ssid=c7u8jm8bhc0000001678090719985&qH=cfc714d8cb15971e\n"
     ]
    },
    {
     "ename": "AttributeError",
     "evalue": "'NoneType' object has no attribute 'a'",
     "output_type": "error",
     "traceback": [
      "\u001b[1;31m---------------------------------------------------------------------------\u001b[0m",
      "\u001b[1;31mAttributeError\u001b[0m                            Traceback (most recent call last)",
      "\u001b[1;32m~\\AppData\\Local\\Temp\\ipykernel_8152\\747907184.py\u001b[0m in \u001b[0;36m<module>\u001b[1;34m\u001b[0m\n\u001b[0;32m      1\u001b[0m \u001b[1;31m# to open all\u001b[0m\u001b[1;33m\u001b[0m\u001b[1;33m\u001b[0m\u001b[0m\n\u001b[0;32m      2\u001b[0m \u001b[1;32mfor\u001b[0m \u001b[0mi\u001b[0m \u001b[1;32min\u001b[0m \u001b[0mbig_box\u001b[0m\u001b[1;33m:\u001b[0m\u001b[1;33m\u001b[0m\u001b[1;33m\u001b[0m\u001b[0m\n\u001b[1;32m----> 3\u001b[1;33m     \u001b[0mprint\u001b[0m\u001b[1;33m(\u001b[0m\u001b[1;34m\"https://www.flipkart.com\"\u001b[0m \u001b[1;33m+\u001b[0m \u001b[0mi\u001b[0m\u001b[1;33m.\u001b[0m\u001b[0mdiv\u001b[0m\u001b[1;33m.\u001b[0m\u001b[0mdiv\u001b[0m\u001b[1;33m.\u001b[0m\u001b[0mdiv\u001b[0m\u001b[1;33m.\u001b[0m\u001b[0ma\u001b[0m\u001b[1;33m[\u001b[0m\u001b[1;34m'href'\u001b[0m\u001b[1;33m]\u001b[0m\u001b[1;33m)\u001b[0m\u001b[1;33m\u001b[0m\u001b[1;33m\u001b[0m\u001b[0m\n\u001b[0m",
      "\u001b[1;31mAttributeError\u001b[0m: 'NoneType' object has no attribute 'a'"
     ]
    }
   ],
   "source": [
    "# to open all\n",
    "for i in big_box:\n",
    "    print(\"https://www.flipkart.com\" + i.div.div.div.a['href'])"
   ]
  },
  {
   "cell_type": "code",
   "execution_count": 14,
   "id": "dc0111e6-2cbf-490a-b8d9-e182cf873e5e",
   "metadata": {},
   "outputs": [
    {
     "data": {
      "text/plain": [
       "'https://www.flipkart.com/oneplus-nord-2t-5g-gray-shadow-128-gb/p/itmeadf76c1e8943?pid=MOBGHBZH2S8MWQGQ&lid=LSTMOBGHBZH2S8MWQGQ4WO33L&marketplace=FLIPKART&q=oneplusnord2T&store=tyy%2F4io&srno=s_1_2&otracker=search&fm=organic&iid=b68c9c6b-de72-4be3-ad39-559b9e349862.MOBGHBZH2S8MWQGQ.SEARCH&ppt=None&ppn=None&ssid=c7u8jm8bhc0000001678090719985&qH=cfc714d8cb15971e'"
      ]
     },
     "execution_count": 14,
     "metadata": {},
     "output_type": "execute_result"
    }
   ],
   "source": [
    "# To extract rating and all information about rating\n",
    "#lets do for first product\n",
    "product_link"
   ]
  },
  {
   "cell_type": "code",
   "execution_count": 15,
   "id": "48cb2c66-7df7-4449-9792-f719b6015f0c",
   "metadata": {},
   "outputs": [],
   "source": [
    "#To get into the page of the product\n",
    "product_req = requests.get(product_link)"
   ]
  },
  {
   "cell_type": "code",
   "execution_count": 16,
   "id": "9e385cd8-565d-4a71-b0b5-fcb09ee2c0a3",
   "metadata": {},
   "outputs": [],
   "source": [
    "# product_req.text    -> this will extract whole the html code of the product page\n",
    "# Beautify the html code\n",
    "product_html = bs(product_req.text, 'html.parser')"
   ]
  },
  {
   "cell_type": "code",
   "execution_count": 17,
   "id": "e126be02-acfc-4247-a8d7-97996a7f04c7",
   "metadata": {},
   "outputs": [],
   "source": [
    "# to extrace all reviews only in html form\n",
    "review_box = product_html.find_all(\"div\", {\"class\": \"_16PBlm\"})"
   ]
  },
  {
   "cell_type": "code",
   "execution_count": 18,
   "id": "02711a6a-7e5d-4398-b0a1-f1055355ccbc",
   "metadata": {},
   "outputs": [
    {
     "data": {
      "text/plain": [
       "11"
      ]
     },
     "execution_count": 18,
     "metadata": {},
     "output_type": "execute_result"
    }
   ],
   "source": [
    "# Total 11 review are there\n",
    "len(review_box)"
   ]
  },
  {
   "cell_type": "code",
   "execution_count": 19,
   "id": "85a99133-ee1e-4888-9d05-9e263673e8fc",
   "metadata": {},
   "outputs": [
    {
     "data": {
      "text/plain": [
       "'Shailesh Yadav'"
      ]
     },
     "execution_count": 19,
     "metadata": {},
     "output_type": "execute_result"
    }
   ],
   "source": [
    "# to extract the name of person who gave the review\n",
    "review_box[0].div.div.find_all(\"p\", {\"class\":\"_2sc7ZR _2V5EHH\"})[0].text"
   ]
  },
  {
   "cell_type": "code",
   "execution_count": 20,
   "id": "6e89135b-5f27-4726-9afc-0875ea43d194",
   "metadata": {},
   "outputs": [
    {
     "name": "stdout",
     "output_type": "stream",
     "text": [
      "Shailesh Yadav\n",
      "Sneha Ghosalkar\n",
      "Burair  Jafri \n",
      "Tajaram Mharaj\n",
      "Deep Das\n",
      "Md Akbar Alam\n",
      "Rahul Rai\n",
      "Virendra Kushwaha\n",
      "Dnyaneshwar Sarkunde\n",
      "Amit Patel\n"
     ]
    },
    {
     "ename": "AttributeError",
     "evalue": "'NoneType' object has no attribute 'div'",
     "output_type": "error",
     "traceback": [
      "\u001b[1;31m---------------------------------------------------------------------------\u001b[0m",
      "\u001b[1;31mAttributeError\u001b[0m                            Traceback (most recent call last)",
      "\u001b[1;32m~\\AppData\\Local\\Temp\\ipykernel_8152\\3288308032.py\u001b[0m in \u001b[0;36m<module>\u001b[1;34m\u001b[0m\n\u001b[0;32m      1\u001b[0m \u001b[1;32mfor\u001b[0m \u001b[0mi\u001b[0m \u001b[1;32min\u001b[0m \u001b[0mreview_box\u001b[0m\u001b[1;33m:\u001b[0m\u001b[1;33m\u001b[0m\u001b[1;33m\u001b[0m\u001b[0m\n\u001b[1;32m----> 2\u001b[1;33m     \u001b[0mprint\u001b[0m\u001b[1;33m(\u001b[0m\u001b[0mi\u001b[0m\u001b[1;33m.\u001b[0m\u001b[0mdiv\u001b[0m\u001b[1;33m.\u001b[0m\u001b[0mdiv\u001b[0m\u001b[1;33m.\u001b[0m\u001b[0mfind_all\u001b[0m\u001b[1;33m(\u001b[0m\u001b[1;34m\"p\"\u001b[0m\u001b[1;33m,\u001b[0m \u001b[1;33m{\u001b[0m\u001b[1;34m\"class\"\u001b[0m\u001b[1;33m:\u001b[0m\u001b[1;34m\"_2sc7ZR _2V5EHH\"\u001b[0m\u001b[1;33m}\u001b[0m\u001b[1;33m)\u001b[0m\u001b[1;33m[\u001b[0m\u001b[1;36m0\u001b[0m\u001b[1;33m]\u001b[0m\u001b[1;33m.\u001b[0m\u001b[0mtext\u001b[0m\u001b[1;33m)\u001b[0m\u001b[1;33m\u001b[0m\u001b[1;33m\u001b[0m\u001b[0m\n\u001b[0m",
      "\u001b[1;31mAttributeError\u001b[0m: 'NoneType' object has no attribute 'div'"
     ]
    }
   ],
   "source": [
    "for i in review_box:\n",
    "    print(i.div.div.find_all(\"p\", {\"class\":\"_2sc7ZR _2V5EHH\"})[0].text)"
   ]
  },
  {
   "cell_type": "code",
   "execution_count": 21,
   "id": "e176eb64-b8f5-4517-a2f3-6ea86e73808d",
   "metadata": {},
   "outputs": [
    {
     "data": {
      "text/plain": [
       "'5'"
      ]
     },
     "execution_count": 21,
     "metadata": {},
     "output_type": "execute_result"
    }
   ],
   "source": [
    "# to extract the rating given by different people\n",
    "review_box[0].div.div.div.div.text"
   ]
  },
  {
   "cell_type": "code",
   "execution_count": 22,
   "id": "67f7dbd6-ad38-4f2d-b69e-bd5115a50115",
   "metadata": {},
   "outputs": [
    {
     "name": "stdout",
     "output_type": "stream",
     "text": [
      "5\n",
      "5\n",
      "5\n",
      "5\n",
      "5\n",
      "4\n",
      "5\n",
      "5\n",
      "4\n",
      "4\n"
     ]
    },
    {
     "ename": "AttributeError",
     "evalue": "'NoneType' object has no attribute 'div'",
     "output_type": "error",
     "traceback": [
      "\u001b[1;31m---------------------------------------------------------------------------\u001b[0m",
      "\u001b[1;31mAttributeError\u001b[0m                            Traceback (most recent call last)",
      "\u001b[1;32m~\\AppData\\Local\\Temp\\ipykernel_8152\\4212725120.py\u001b[0m in \u001b[0;36m<module>\u001b[1;34m\u001b[0m\n\u001b[0;32m      1\u001b[0m \u001b[1;32mfor\u001b[0m \u001b[0mi\u001b[0m \u001b[1;32min\u001b[0m \u001b[0mreview_box\u001b[0m\u001b[1;33m:\u001b[0m\u001b[1;33m\u001b[0m\u001b[1;33m\u001b[0m\u001b[0m\n\u001b[1;32m----> 2\u001b[1;33m     \u001b[0mprint\u001b[0m\u001b[1;33m(\u001b[0m\u001b[0mi\u001b[0m\u001b[1;33m.\u001b[0m\u001b[0mdiv\u001b[0m\u001b[1;33m.\u001b[0m\u001b[0mdiv\u001b[0m\u001b[1;33m.\u001b[0m\u001b[0mdiv\u001b[0m\u001b[1;33m.\u001b[0m\u001b[0mdiv\u001b[0m\u001b[1;33m.\u001b[0m\u001b[0mtext\u001b[0m\u001b[1;33m)\u001b[0m\u001b[1;33m\u001b[0m\u001b[1;33m\u001b[0m\u001b[0m\n\u001b[0m",
      "\u001b[1;31mAttributeError\u001b[0m: 'NoneType' object has no attribute 'div'"
     ]
    }
   ],
   "source": [
    "for i in review_box:\n",
    "    print(i.div.div.div.div.text)"
   ]
  },
  {
   "cell_type": "code",
   "execution_count": 23,
   "id": "cb833f33-d9d8-4d1d-8180-d02a4f0a37be",
   "metadata": {},
   "outputs": [
    {
     "data": {
      "text/plain": [
       "'Perfect product!'"
      ]
     },
     "execution_count": 23,
     "metadata": {},
     "output_type": "execute_result"
    }
   ],
   "source": [
    "#To extrace review header for the review\n",
    "review_box[0].div.div.div.p.text"
   ]
  },
  {
   "cell_type": "code",
   "execution_count": 24,
   "id": "33a00e55-2fd3-4997-98b1-4a8789af21ba",
   "metadata": {},
   "outputs": [
    {
     "name": "stdout",
     "output_type": "stream",
     "text": [
      "Perfect product!\n",
      "Worth every penny\n",
      "Fabulous!\n",
      "Terrific\n",
      "Simply awesome\n",
      "Delightful\n",
      "Just wow!\n",
      "Mind-blowing purchase\n",
      "Value-for-money\n",
      "Good choice\n"
     ]
    },
    {
     "ename": "AttributeError",
     "evalue": "'NoneType' object has no attribute 'div'",
     "output_type": "error",
     "traceback": [
      "\u001b[1;31m---------------------------------------------------------------------------\u001b[0m",
      "\u001b[1;31mAttributeError\u001b[0m                            Traceback (most recent call last)",
      "\u001b[1;32m~\\AppData\\Local\\Temp\\ipykernel_8152\\1889660574.py\u001b[0m in \u001b[0;36m<module>\u001b[1;34m\u001b[0m\n\u001b[0;32m      1\u001b[0m \u001b[1;32mfor\u001b[0m \u001b[0mi\u001b[0m \u001b[1;32min\u001b[0m \u001b[0mreview_box\u001b[0m\u001b[1;33m:\u001b[0m\u001b[1;33m\u001b[0m\u001b[1;33m\u001b[0m\u001b[0m\n\u001b[1;32m----> 2\u001b[1;33m     \u001b[0mprint\u001b[0m\u001b[1;33m(\u001b[0m\u001b[0mi\u001b[0m\u001b[1;33m.\u001b[0m\u001b[0mdiv\u001b[0m\u001b[1;33m.\u001b[0m\u001b[0mdiv\u001b[0m\u001b[1;33m.\u001b[0m\u001b[0mdiv\u001b[0m\u001b[1;33m.\u001b[0m\u001b[0mp\u001b[0m\u001b[1;33m.\u001b[0m\u001b[0mtext\u001b[0m\u001b[1;33m)\u001b[0m\u001b[1;33m\u001b[0m\u001b[1;33m\u001b[0m\u001b[0m\n\u001b[0m",
      "\u001b[1;31mAttributeError\u001b[0m: 'NoneType' object has no attribute 'div'"
     ]
    }
   ],
   "source": [
    "for i in review_box:\n",
    "    print(i.div.div.div.p.text)"
   ]
  },
  {
   "cell_type": "code",
   "execution_count": 25,
   "id": "5a313897-1292-4c45-b751-112098d1f9a1",
   "metadata": {},
   "outputs": [
    {
     "data": {
      "text/plain": [
       "'Thanks flipcart for providing me such a good product. Camera and display both works in very good manners . Fast charging, Battery backup is very good .READ MORE'"
      ]
     },
     "execution_count": 25,
     "metadata": {},
     "output_type": "execute_result"
    }
   ],
   "source": [
    "#To extract review statement\n",
    "review_box[0].div.div.find_all('div', {'class':'t-ZTKy'})[0].text"
   ]
  },
  {
   "cell_type": "code",
   "execution_count": 26,
   "id": "8fc1598c-1e50-4083-97e3-7b69a0d34c24",
   "metadata": {},
   "outputs": [
    {
     "name": "stdout",
     "output_type": "stream",
     "text": [
      "Thanks flipcart for providing me such a good product. Camera and display both works in very good manners . Fast charging, Battery backup is very good .READ MORE\n",
      "Thank you so much Flipkart for fulfilling my needs. Satisfied with the service and the product given. So so so happy. One of the best phone.READ MORE\n",
      "First time I purchased OnePlus phone.. the phone is superb it is smooth and does it work bas per its processor and the given features.And the product look and feel of the the model is having the OnePlus core signature built value of this product.. overall experience regarding this device.. its OSM.  I love OnePlus.🤩...❤️READ MORE\n",
      "This phone is really good. Best way to use it Battery, Display, and Version v best.... Camera amazing quality.... Thank you OnePlus temREAD MORE\n",
      "Great phone I can say balanced phone , everything is upto mark  camera, display, and battery is charging so fast ..17min full charge ...Great camera and display quality.Dolby sound....loud 🔊 sound...Overall I m satisfied...mI add some camera samples of both back and font came it's awesome 👍READ MORE\n",
      "Phone is really good camera 📷 best quality Super display full smooth and light weight in hand fill goodREAD MORE\n",
      "Value for money, Rear camera is awesome, Front camera is great in good lighting condition, Battary backup is decent, Charging is very fast with 80 watt charger, charges in 30 minutes from 0 to 100. Beautiful design, hold and looks premium in hand. In hand feel is awesome.READ MORE\n",
      "Very nice and good phone power full procecer and colour very nice and battery charger very fastREAD MORE\n",
      "Very good nice products sound quality is good thank you flipkartREAD MORE\n",
      "I wud have given it 5 stars but deducted one because oppo Reno 8 has better camera and you can play YT in background in that phone. Battery is okay okay. Battery consumption increases fast  when hotspot is on. Rest I gave it 4 stars because of its good lookREAD MORE\n"
     ]
    },
    {
     "ename": "AttributeError",
     "evalue": "'NoneType' object has no attribute 'div'",
     "output_type": "error",
     "traceback": [
      "\u001b[1;31m---------------------------------------------------------------------------\u001b[0m",
      "\u001b[1;31mAttributeError\u001b[0m                            Traceback (most recent call last)",
      "\u001b[1;32m~\\AppData\\Local\\Temp\\ipykernel_8152\\535436495.py\u001b[0m in \u001b[0;36m<module>\u001b[1;34m\u001b[0m\n\u001b[0;32m      1\u001b[0m \u001b[1;32mfor\u001b[0m \u001b[0mi\u001b[0m \u001b[1;32min\u001b[0m \u001b[0mreview_box\u001b[0m\u001b[1;33m:\u001b[0m\u001b[1;33m\u001b[0m\u001b[1;33m\u001b[0m\u001b[0m\n\u001b[1;32m----> 2\u001b[1;33m     \u001b[0mprint\u001b[0m\u001b[1;33m(\u001b[0m\u001b[0mi\u001b[0m\u001b[1;33m.\u001b[0m\u001b[0mdiv\u001b[0m\u001b[1;33m.\u001b[0m\u001b[0mdiv\u001b[0m\u001b[1;33m.\u001b[0m\u001b[0mfind_all\u001b[0m\u001b[1;33m(\u001b[0m\u001b[1;34m'div'\u001b[0m\u001b[1;33m,\u001b[0m \u001b[1;33m{\u001b[0m\u001b[1;34m'class'\u001b[0m\u001b[1;33m:\u001b[0m\u001b[1;34m't-ZTKy'\u001b[0m\u001b[1;33m}\u001b[0m\u001b[1;33m)\u001b[0m\u001b[1;33m[\u001b[0m\u001b[1;36m0\u001b[0m\u001b[1;33m]\u001b[0m\u001b[1;33m.\u001b[0m\u001b[0mtext\u001b[0m\u001b[1;33m)\u001b[0m\u001b[1;33m\u001b[0m\u001b[1;33m\u001b[0m\u001b[0m\n\u001b[0m",
      "\u001b[1;31mAttributeError\u001b[0m: 'NoneType' object has no attribute 'div'"
     ]
    }
   ],
   "source": [
    "for i in review_box:\n",
    "    print(i.div.div.find_all('div', {'class':'t-ZTKy'})[0].text)"
   ]
  },
  {
   "cell_type": "code",
   "execution_count": null,
   "id": "7f8257e6-c432-40e7-834d-83a746be342b",
   "metadata": {},
   "outputs": [],
   "source": []
  }
 ],
 "metadata": {
  "kernelspec": {
   "display_name": "Python 3 (ipykernel)",
   "language": "python",
   "name": "python3"
  },
  "language_info": {
   "codemirror_mode": {
    "name": "ipython",
    "version": 3
   },
   "file_extension": ".py",
   "mimetype": "text/x-python",
   "name": "python",
   "nbconvert_exporter": "python",
   "pygments_lexer": "ipython3",
   "version": "3.9.13"
  }
 },
 "nbformat": 4,
 "nbformat_minor": 5
}
